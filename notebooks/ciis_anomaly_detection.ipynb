{
  "cells": [
    {
      "cell_type": "code",
      "execution_count": 1,
      "id": "ec15f9bf",
      "metadata": {
        "colab": {
          "base_uri": "https://localhost:8080/"
        },
        "id": "ec15f9bf",
        "outputId": "f9119465-48a5-41b4-cebd-e3215725714d"
      },
      "outputs": [
        {
          "output_type": "stream",
          "name": "stdout",
          "text": [
            "Combined dataframe shape: (1800, 13)\n"
          ]
        }
      ],
      "source": [
        "import pandas as pd\n",
        "df1 = pd.read_csv('full_anomaly_data_india.csv')\n",
        "df2 = pd.read_csv('synthetic_ipdr_dataset_with_anomaly.csv')\n",
        "df = pd.concat([df1, df2], ignore_index=True)\n",
        "print('Combined dataframe shape:', df.shape)"
      ]
    },
    {
      "cell_type": "code",
      "execution_count": 2,
      "id": "a7dd6e22",
      "metadata": {
        "colab": {
          "base_uri": "https://localhost:8080/"
        },
        "id": "a7dd6e22",
        "outputId": "8c39d6c5-beff-4a73-bcf2-f1683827ad3b"
      },
      "outputs": [
        {
          "output_type": "stream",
          "name": "stdout",
          "text": [
            "<class 'pandas.core.frame.DataFrame'>\n",
            "RangeIndex: 1800 entries, 0 to 1799\n",
            "Data columns (total 13 columns):\n",
            " #   Column          Non-Null Count  Dtype  \n",
            "---  ------          --------------  -----  \n",
            " 0   timestamp       1800 non-null   object \n",
            " 1   session_id      1800 non-null   object \n",
            " 2   src_ip          1800 non-null   object \n",
            " 3   src_port        1800 non-null   int64  \n",
            " 4   dst_ip          1800 non-null   object \n",
            " 5   dst_port        1800 non-null   int64  \n",
            " 6   protocol        1800 non-null   object \n",
            " 7   duration_sec    1800 non-null   int64  \n",
            " 8   bytes           1800 non-null   int64  \n",
            " 9   phone_number    1800 non-null   int64  \n",
            " 10  cell_tower_lat  1800 non-null   float64\n",
            " 11  cell_tower_lon  1800 non-null   float64\n",
            " 12  anomalystatus   1800 non-null   int64  \n",
            "dtypes: float64(2), int64(6), object(5)\n",
            "memory usage: 182.9+ KB\n",
            "None\n"
          ]
        }
      ],
      "source": [
        "print(df.info())"
      ]
    },
    {
      "cell_type": "code",
      "execution_count": 3,
      "id": "9aff1c8d",
      "metadata": {
        "colab": {
          "base_uri": "https://localhost:8080/",
          "height": 300
        },
        "id": "9aff1c8d",
        "outputId": "d9d6bfbf-355b-45ab-b690-e1a53ce311b0"
      },
      "outputs": [
        {
          "output_type": "execute_result",
          "data": {
            "text/plain": [
              "           src_port      dst_port  duration_sec         bytes  phone_number  \\\n",
              "count   1800.000000   1800.000000   1800.000000  1.800000e+03  1.800000e+03   \n",
              "mean   33155.672778  31307.811667   5953.967222  3.794245e+08  9.183025e+11   \n",
              "std    18784.829605  18009.053554   5608.761392  3.320448e+08  1.071485e+09   \n",
              "min     1039.000000     37.000000      1.000000  1.428700e+04  9.160045e+11   \n",
              "25%    17034.750000  15686.750000    515.750000  4.829755e+06  9.174942e+11   \n",
              "50%    33073.000000  31310.000000   4702.500000  3.375128e+08  9.183888e+11   \n",
              "75%    50011.750000  46687.750000   9276.750000  6.771394e+08  9.192474e+11   \n",
              "max    65499.000000  65435.000000  19901.000000  9.995512e+08  9.199899e+11   \n",
              "\n",
              "       cell_tower_lat  cell_tower_lon  anomalystatus  \n",
              "count     1800.000000     1800.000000    1800.000000  \n",
              "mean        19.158185       79.344912       0.500000  \n",
              "std          5.659817        5.036602       0.500139  \n",
              "min         12.971600       72.877700       0.000000  \n",
              "25%         13.082700       77.209000       0.000000  \n",
              "50%         19.076000       77.594600       0.500000  \n",
              "75%         22.572600       80.270700       1.000000  \n",
              "max         28.613900       88.363900       1.000000  "
            ],
            "text/html": [
              "\n",
              "  <div id=\"df-1a934068-71c4-4669-8936-6813d73405c5\" class=\"colab-df-container\">\n",
              "    <div>\n",
              "<style scoped>\n",
              "    .dataframe tbody tr th:only-of-type {\n",
              "        vertical-align: middle;\n",
              "    }\n",
              "\n",
              "    .dataframe tbody tr th {\n",
              "        vertical-align: top;\n",
              "    }\n",
              "\n",
              "    .dataframe thead th {\n",
              "        text-align: right;\n",
              "    }\n",
              "</style>\n",
              "<table border=\"1\" class=\"dataframe\">\n",
              "  <thead>\n",
              "    <tr style=\"text-align: right;\">\n",
              "      <th></th>\n",
              "      <th>src_port</th>\n",
              "      <th>dst_port</th>\n",
              "      <th>duration_sec</th>\n",
              "      <th>bytes</th>\n",
              "      <th>phone_number</th>\n",
              "      <th>cell_tower_lat</th>\n",
              "      <th>cell_tower_lon</th>\n",
              "      <th>anomalystatus</th>\n",
              "    </tr>\n",
              "  </thead>\n",
              "  <tbody>\n",
              "    <tr>\n",
              "      <th>count</th>\n",
              "      <td>1800.000000</td>\n",
              "      <td>1800.000000</td>\n",
              "      <td>1800.000000</td>\n",
              "      <td>1.800000e+03</td>\n",
              "      <td>1.800000e+03</td>\n",
              "      <td>1800.000000</td>\n",
              "      <td>1800.000000</td>\n",
              "      <td>1800.000000</td>\n",
              "    </tr>\n",
              "    <tr>\n",
              "      <th>mean</th>\n",
              "      <td>33155.672778</td>\n",
              "      <td>31307.811667</td>\n",
              "      <td>5953.967222</td>\n",
              "      <td>3.794245e+08</td>\n",
              "      <td>9.183025e+11</td>\n",
              "      <td>19.158185</td>\n",
              "      <td>79.344912</td>\n",
              "      <td>0.500000</td>\n",
              "    </tr>\n",
              "    <tr>\n",
              "      <th>std</th>\n",
              "      <td>18784.829605</td>\n",
              "      <td>18009.053554</td>\n",
              "      <td>5608.761392</td>\n",
              "      <td>3.320448e+08</td>\n",
              "      <td>1.071485e+09</td>\n",
              "      <td>5.659817</td>\n",
              "      <td>5.036602</td>\n",
              "      <td>0.500139</td>\n",
              "    </tr>\n",
              "    <tr>\n",
              "      <th>min</th>\n",
              "      <td>1039.000000</td>\n",
              "      <td>37.000000</td>\n",
              "      <td>1.000000</td>\n",
              "      <td>1.428700e+04</td>\n",
              "      <td>9.160045e+11</td>\n",
              "      <td>12.971600</td>\n",
              "      <td>72.877700</td>\n",
              "      <td>0.000000</td>\n",
              "    </tr>\n",
              "    <tr>\n",
              "      <th>25%</th>\n",
              "      <td>17034.750000</td>\n",
              "      <td>15686.750000</td>\n",
              "      <td>515.750000</td>\n",
              "      <td>4.829755e+06</td>\n",
              "      <td>9.174942e+11</td>\n",
              "      <td>13.082700</td>\n",
              "      <td>77.209000</td>\n",
              "      <td>0.000000</td>\n",
              "    </tr>\n",
              "    <tr>\n",
              "      <th>50%</th>\n",
              "      <td>33073.000000</td>\n",
              "      <td>31310.000000</td>\n",
              "      <td>4702.500000</td>\n",
              "      <td>3.375128e+08</td>\n",
              "      <td>9.183888e+11</td>\n",
              "      <td>19.076000</td>\n",
              "      <td>77.594600</td>\n",
              "      <td>0.500000</td>\n",
              "    </tr>\n",
              "    <tr>\n",
              "      <th>75%</th>\n",
              "      <td>50011.750000</td>\n",
              "      <td>46687.750000</td>\n",
              "      <td>9276.750000</td>\n",
              "      <td>6.771394e+08</td>\n",
              "      <td>9.192474e+11</td>\n",
              "      <td>22.572600</td>\n",
              "      <td>80.270700</td>\n",
              "      <td>1.000000</td>\n",
              "    </tr>\n",
              "    <tr>\n",
              "      <th>max</th>\n",
              "      <td>65499.000000</td>\n",
              "      <td>65435.000000</td>\n",
              "      <td>19901.000000</td>\n",
              "      <td>9.995512e+08</td>\n",
              "      <td>9.199899e+11</td>\n",
              "      <td>28.613900</td>\n",
              "      <td>88.363900</td>\n",
              "      <td>1.000000</td>\n",
              "    </tr>\n",
              "  </tbody>\n",
              "</table>\n",
              "</div>\n",
              "    <div class=\"colab-df-buttons\">\n",
              "\n",
              "  <div class=\"colab-df-container\">\n",
              "    <button class=\"colab-df-convert\" onclick=\"convertToInteractive('df-1a934068-71c4-4669-8936-6813d73405c5')\"\n",
              "            title=\"Convert this dataframe to an interactive table.\"\n",
              "            style=\"display:none;\">\n",
              "\n",
              "  <svg xmlns=\"http://www.w3.org/2000/svg\" height=\"24px\" viewBox=\"0 -960 960 960\">\n",
              "    <path d=\"M120-120v-720h720v720H120Zm60-500h600v-160H180v160Zm220 220h160v-160H400v160Zm0 220h160v-160H400v160ZM180-400h160v-160H180v160Zm440 0h160v-160H620v160ZM180-180h160v-160H180v160Zm440 0h160v-160H620v160Z\"/>\n",
              "  </svg>\n",
              "    </button>\n",
              "\n",
              "  <style>\n",
              "    .colab-df-container {\n",
              "      display:flex;\n",
              "      gap: 12px;\n",
              "    }\n",
              "\n",
              "    .colab-df-convert {\n",
              "      background-color: #E8F0FE;\n",
              "      border: none;\n",
              "      border-radius: 50%;\n",
              "      cursor: pointer;\n",
              "      display: none;\n",
              "      fill: #1967D2;\n",
              "      height: 32px;\n",
              "      padding: 0 0 0 0;\n",
              "      width: 32px;\n",
              "    }\n",
              "\n",
              "    .colab-df-convert:hover {\n",
              "      background-color: #E2EBFA;\n",
              "      box-shadow: 0px 1px 2px rgba(60, 64, 67, 0.3), 0px 1px 3px 1px rgba(60, 64, 67, 0.15);\n",
              "      fill: #174EA6;\n",
              "    }\n",
              "\n",
              "    .colab-df-buttons div {\n",
              "      margin-bottom: 4px;\n",
              "    }\n",
              "\n",
              "    [theme=dark] .colab-df-convert {\n",
              "      background-color: #3B4455;\n",
              "      fill: #D2E3FC;\n",
              "    }\n",
              "\n",
              "    [theme=dark] .colab-df-convert:hover {\n",
              "      background-color: #434B5C;\n",
              "      box-shadow: 0px 1px 3px 1px rgba(0, 0, 0, 0.15);\n",
              "      filter: drop-shadow(0px 1px 2px rgba(0, 0, 0, 0.3));\n",
              "      fill: #FFFFFF;\n",
              "    }\n",
              "  </style>\n",
              "\n",
              "    <script>\n",
              "      const buttonEl =\n",
              "        document.querySelector('#df-1a934068-71c4-4669-8936-6813d73405c5 button.colab-df-convert');\n",
              "      buttonEl.style.display =\n",
              "        google.colab.kernel.accessAllowed ? 'block' : 'none';\n",
              "\n",
              "      async function convertToInteractive(key) {\n",
              "        const element = document.querySelector('#df-1a934068-71c4-4669-8936-6813d73405c5');\n",
              "        const dataTable =\n",
              "          await google.colab.kernel.invokeFunction('convertToInteractive',\n",
              "                                                    [key], {});\n",
              "        if (!dataTable) return;\n",
              "\n",
              "        const docLinkHtml = 'Like what you see? Visit the ' +\n",
              "          '<a target=\"_blank\" href=https://colab.research.google.com/notebooks/data_table.ipynb>data table notebook</a>'\n",
              "          + ' to learn more about interactive tables.';\n",
              "        element.innerHTML = '';\n",
              "        dataTable['output_type'] = 'display_data';\n",
              "        await google.colab.output.renderOutput(dataTable, element);\n",
              "        const docLink = document.createElement('div');\n",
              "        docLink.innerHTML = docLinkHtml;\n",
              "        element.appendChild(docLink);\n",
              "      }\n",
              "    </script>\n",
              "  </div>\n",
              "\n",
              "\n",
              "    <div id=\"df-0333fce6-b288-4095-b958-f99d333fced0\">\n",
              "      <button class=\"colab-df-quickchart\" onclick=\"quickchart('df-0333fce6-b288-4095-b958-f99d333fced0')\"\n",
              "                title=\"Suggest charts\"\n",
              "                style=\"display:none;\">\n",
              "\n",
              "<svg xmlns=\"http://www.w3.org/2000/svg\" height=\"24px\"viewBox=\"0 0 24 24\"\n",
              "     width=\"24px\">\n",
              "    <g>\n",
              "        <path d=\"M19 3H5c-1.1 0-2 .9-2 2v14c0 1.1.9 2 2 2h14c1.1 0 2-.9 2-2V5c0-1.1-.9-2-2-2zM9 17H7v-7h2v7zm4 0h-2V7h2v10zm4 0h-2v-4h2v4z\"/>\n",
              "    </g>\n",
              "</svg>\n",
              "      </button>\n",
              "\n",
              "<style>\n",
              "  .colab-df-quickchart {\n",
              "      --bg-color: #E8F0FE;\n",
              "      --fill-color: #1967D2;\n",
              "      --hover-bg-color: #E2EBFA;\n",
              "      --hover-fill-color: #174EA6;\n",
              "      --disabled-fill-color: #AAA;\n",
              "      --disabled-bg-color: #DDD;\n",
              "  }\n",
              "\n",
              "  [theme=dark] .colab-df-quickchart {\n",
              "      --bg-color: #3B4455;\n",
              "      --fill-color: #D2E3FC;\n",
              "      --hover-bg-color: #434B5C;\n",
              "      --hover-fill-color: #FFFFFF;\n",
              "      --disabled-bg-color: #3B4455;\n",
              "      --disabled-fill-color: #666;\n",
              "  }\n",
              "\n",
              "  .colab-df-quickchart {\n",
              "    background-color: var(--bg-color);\n",
              "    border: none;\n",
              "    border-radius: 50%;\n",
              "    cursor: pointer;\n",
              "    display: none;\n",
              "    fill: var(--fill-color);\n",
              "    height: 32px;\n",
              "    padding: 0;\n",
              "    width: 32px;\n",
              "  }\n",
              "\n",
              "  .colab-df-quickchart:hover {\n",
              "    background-color: var(--hover-bg-color);\n",
              "    box-shadow: 0 1px 2px rgba(60, 64, 67, 0.3), 0 1px 3px 1px rgba(60, 64, 67, 0.15);\n",
              "    fill: var(--button-hover-fill-color);\n",
              "  }\n",
              "\n",
              "  .colab-df-quickchart-complete:disabled,\n",
              "  .colab-df-quickchart-complete:disabled:hover {\n",
              "    background-color: var(--disabled-bg-color);\n",
              "    fill: var(--disabled-fill-color);\n",
              "    box-shadow: none;\n",
              "  }\n",
              "\n",
              "  .colab-df-spinner {\n",
              "    border: 2px solid var(--fill-color);\n",
              "    border-color: transparent;\n",
              "    border-bottom-color: var(--fill-color);\n",
              "    animation:\n",
              "      spin 1s steps(1) infinite;\n",
              "  }\n",
              "\n",
              "  @keyframes spin {\n",
              "    0% {\n",
              "      border-color: transparent;\n",
              "      border-bottom-color: var(--fill-color);\n",
              "      border-left-color: var(--fill-color);\n",
              "    }\n",
              "    20% {\n",
              "      border-color: transparent;\n",
              "      border-left-color: var(--fill-color);\n",
              "      border-top-color: var(--fill-color);\n",
              "    }\n",
              "    30% {\n",
              "      border-color: transparent;\n",
              "      border-left-color: var(--fill-color);\n",
              "      border-top-color: var(--fill-color);\n",
              "      border-right-color: var(--fill-color);\n",
              "    }\n",
              "    40% {\n",
              "      border-color: transparent;\n",
              "      border-right-color: var(--fill-color);\n",
              "      border-top-color: var(--fill-color);\n",
              "    }\n",
              "    60% {\n",
              "      border-color: transparent;\n",
              "      border-right-color: var(--fill-color);\n",
              "    }\n",
              "    80% {\n",
              "      border-color: transparent;\n",
              "      border-right-color: var(--fill-color);\n",
              "      border-bottom-color: var(--fill-color);\n",
              "    }\n",
              "    90% {\n",
              "      border-color: transparent;\n",
              "      border-bottom-color: var(--fill-color);\n",
              "    }\n",
              "  }\n",
              "</style>\n",
              "\n",
              "      <script>\n",
              "        async function quickchart(key) {\n",
              "          const quickchartButtonEl =\n",
              "            document.querySelector('#' + key + ' button');\n",
              "          quickchartButtonEl.disabled = true;  // To prevent multiple clicks.\n",
              "          quickchartButtonEl.classList.add('colab-df-spinner');\n",
              "          try {\n",
              "            const charts = await google.colab.kernel.invokeFunction(\n",
              "                'suggestCharts', [key], {});\n",
              "          } catch (error) {\n",
              "            console.error('Error during call to suggestCharts:', error);\n",
              "          }\n",
              "          quickchartButtonEl.classList.remove('colab-df-spinner');\n",
              "          quickchartButtonEl.classList.add('colab-df-quickchart-complete');\n",
              "        }\n",
              "        (() => {\n",
              "          let quickchartButtonEl =\n",
              "            document.querySelector('#df-0333fce6-b288-4095-b958-f99d333fced0 button');\n",
              "          quickchartButtonEl.style.display =\n",
              "            google.colab.kernel.accessAllowed ? 'block' : 'none';\n",
              "        })();\n",
              "      </script>\n",
              "    </div>\n",
              "\n",
              "    </div>\n",
              "  </div>\n"
            ],
            "application/vnd.google.colaboratory.intrinsic+json": {
              "type": "dataframe",
              "summary": "{\n  \"name\": \"df\",\n  \"rows\": 8,\n  \"fields\": [\n    {\n      \"column\": \"src_port\",\n      \"properties\": {\n        \"dtype\": \"number\",\n        \"std\": 22551.142592101252,\n        \"min\": 1039.0,\n        \"max\": 65499.0,\n        \"num_unique_values\": 8,\n        \"samples\": [\n          33155.67277777778,\n          33073.0,\n          1800.0\n        ],\n        \"semantic_type\": \"\",\n        \"description\": \"\"\n      }\n    },\n    {\n      \"column\": \"dst_port\",\n      \"properties\": {\n        \"dtype\": \"number\",\n        \"std\": 22260.666418381905,\n        \"min\": 37.0,\n        \"max\": 65435.0,\n        \"num_unique_values\": 8,\n        \"samples\": [\n          31307.81166666667,\n          31310.0,\n          1800.0\n        ],\n        \"semantic_type\": \"\",\n        \"description\": \"\"\n      }\n    },\n    {\n      \"column\": \"duration_sec\",\n      \"properties\": {\n        \"dtype\": \"number\",\n        \"std\": 6431.078194956949,\n        \"min\": 1.0,\n        \"max\": 19901.0,\n        \"num_unique_values\": 8,\n        \"samples\": [\n          5953.9672222222225,\n          4702.5,\n          1800.0\n        ],\n        \"semantic_type\": \"\",\n        \"description\": \"\"\n      }\n    },\n    {\n      \"column\": \"bytes\",\n      \"properties\": {\n        \"dtype\": \"number\",\n        \"std\": 357333146.8244158,\n        \"min\": 1800.0,\n        \"max\": 999551189.0,\n        \"num_unique_values\": 8,\n        \"samples\": [\n          379424540.6394445,\n          337512810.5,\n          1800.0\n        ],\n        \"semantic_type\": \"\",\n        \"description\": \"\"\n      }\n    },\n    {\n      \"column\": \"phone_number\",\n      \"properties\": {\n        \"dtype\": \"number\",\n        \"std\": 424815262303.4809,\n        \"min\": 1800.0,\n        \"max\": 919989901399.0,\n        \"num_unique_values\": 8,\n        \"samples\": [\n          918302508251.5289,\n          918388750909.5,\n          1800.0\n        ],\n        \"semantic_type\": \"\",\n        \"description\": \"\"\n      }\n    },\n    {\n      \"column\": \"cell_tower_lat\",\n      \"properties\": {\n        \"dtype\": \"number\",\n        \"std\": 630.3157706023771,\n        \"min\": 5.659816778742952,\n        \"max\": 1800.0,\n        \"num_unique_values\": 8,\n        \"samples\": [\n          19.15818461111111,\n          19.076,\n          1800.0\n        ],\n        \"semantic_type\": \"\",\n        \"description\": \"\"\n      }\n    },\n    {\n      \"column\": \"cell_tower_lon\",\n      \"properties\": {\n        \"dtype\": \"number\",\n        \"std\": 612.683590012415,\n        \"min\": 5.036602097246982,\n        \"max\": 1800.0,\n        \"num_unique_values\": 8,\n        \"samples\": [\n          79.34491244444446,\n          77.5946,\n          1800.0\n        ],\n        \"semantic_type\": \"\",\n        \"description\": \"\"\n      }\n    },\n    {\n      \"column\": \"anomalystatus\",\n      \"properties\": {\n        \"dtype\": \"number\",\n        \"std\": 636.2194316250747,\n        \"min\": 0.0,\n        \"max\": 1800.0,\n        \"num_unique_values\": 5,\n        \"samples\": [\n          0.5,\n          1.0,\n          0.5001389467860641\n        ],\n        \"semantic_type\": \"\",\n        \"description\": \"\"\n      }\n    }\n  ]\n}"
            }
          },
          "metadata": {},
          "execution_count": 3
        }
      ],
      "source": [
        "df.describe()"
      ]
    },
    {
      "cell_type": "code",
      "execution_count": 4,
      "id": "b7f268ab",
      "metadata": {
        "id": "b7f268ab"
      },
      "outputs": [],
      "source": [
        "# --- Feature Engineering ---\n",
        "import numpy as np\n",
        "from sklearn.ensemble import IsolationForest\n",
        "from sklearn.metrics import confusion_matrix, classification_report\n",
        "\n",
        "# Convert timestamp if present\n",
        "if 'timestamp' in df.columns:\n",
        "    df['timestamp'] = pd.to_datetime(df['timestamp'], errors='coerce')\n",
        "    df['hour_of_day'] = df['timestamp'].dt.hour\n",
        "    df['day_of_week'] = df['timestamp'].dt.dayofweek\n",
        "    df = df.sort_values(['phone_number', 'timestamp'])\n",
        "    df['time_since_last_session'] = df.groupby('phone_number')['timestamp'].diff().dt.total_seconds().fillna(0)\n",
        "else:\n",
        "    df['hour_of_day'] = 0\n",
        "    df['day_of_week'] = 0\n",
        "    df['time_since_last_session'] = 0\n",
        "\n",
        "# Feature: bytes per second\n",
        "if 'bytes' in df.columns and 'duration_sec' in df.columns:\n",
        "    df['bytes_per_second'] = df['bytes'] / df['duration_sec'].replace(0, 1)\n",
        "else:\n",
        "    df['bytes_per_second'] = 0\n",
        "\n",
        "# Feature: port category\n",
        "common_ports = set([80, 443, 53, 22, 25, 110, 143, 21, 23, 8080, 5060, 5061])\n",
        "if 'dst_port' in df.columns:\n",
        "    df['port_category'] = df['dst_port'].apply(lambda x: 'common' if x in common_ports else 'unusual')\n",
        "    port_category_map = {'common': 0, 'unusual': 1}\n",
        "    df['port_category_num'] = df['port_category'].map(port_category_map)\n",
        "else:\n",
        "    df['port_category_num'] = 0\n",
        "\n",
        "# Feature: protocol consistency\n",
        "if 'protocol' in df.columns and 'phone_number' in df.columns:\n",
        "    protocol_mode = df.groupby('phone_number')['protocol'].agg(lambda x: x.mode()[0] if not x.mode().empty else None)\n",
        "    df = df.merge(protocol_mode.rename('most_common_protocol'), left_on='phone_number', right_index=True)\n",
        "    df['protocol_consistency_score'] = (df['protocol'] == df['most_common_protocol']).astype(int)\n",
        "    df.drop('most_common_protocol', axis=1, inplace=True)\n",
        "else:\n",
        "    df['protocol_consistency_score'] = 0\n",
        "\n",
        "# Select features for anomaly detection\n",
        "features = [\n",
        "    'duration_sec' if 'duration_sec' in df.columns else None,\n",
        "    'bytes' if 'bytes' in df.columns else None,\n",
        "    'hour_of_day', 'day_of_week',\n",
        "    'time_since_last_session', 'bytes_per_second',\n",
        "    'protocol_consistency_score', 'port_category_num'\n",
        "    ]\n",
        "features = [f for f in features if f is not None]\n",
        "X = df[features].fillna(0)"
      ]
    },
    {
      "cell_type": "code",
      "source": [
        "# --- Isolation Forest ---\n",
        "iso_forest = IsolationForest(n_estimators=100, contamination=0.1, random_state=42)\n",
        "df['iforest_anomaly'] = iso_forest.fit_predict(X)\n",
        "df['iforest_anomaly'] = df['iforest_anomaly'].map({1: 0, -1: 1})\n",
        "\n",
        "# --- Evaluation if label exists ---\n",
        "if 'anomalystatus' in df.columns:\n",
        "    print('Confusion Matrix:')\n",
        "    print(confusion_matrix(df['anomalystatus'], df['iforest_anomaly']))\n",
        "    print('Classification Report:')\n",
        "    print(classification_report(df['anomalystatus'], df['iforest_anomaly']))\n",
        "else:\n",
        "    print('Anomaly detection complete. No ground truth label found.')"
      ],
      "metadata": {
        "colab": {
          "base_uri": "https://localhost:8080/"
        },
        "id": "NnMT-9muWqFd",
        "outputId": "d1d9638b-5b76-4bf9-c722-4550f3b5a20a"
      },
      "id": "NnMT-9muWqFd",
      "execution_count": 5,
      "outputs": [
        {
          "output_type": "stream",
          "name": "stdout",
          "text": [
            "Confusion Matrix:\n",
            "[[772 128]\n",
            " [848  52]]\n",
            "Classification Report:\n",
            "              precision    recall  f1-score   support\n",
            "\n",
            "           0       0.48      0.86      0.61       900\n",
            "           1       0.29      0.06      0.10       900\n",
            "\n",
            "    accuracy                           0.46      1800\n",
            "   macro avg       0.38      0.46      0.35      1800\n",
            "weighted avg       0.38      0.46      0.35      1800\n",
            "\n"
          ]
        }
      ]
    },
    {
      "cell_type": "code",
      "execution_count": 6,
      "id": "d47641f1",
      "metadata": {
        "colab": {
          "base_uri": "https://localhost:8080/"
        },
        "id": "d47641f1",
        "outputId": "2efeecd4-b5a1-4abe-f087-70d03c9bed62"
      },
      "outputs": [
        {
          "output_type": "stream",
          "name": "stdout",
          "text": [
            "anomalystatus\n",
            "1    900\n",
            "0    900\n",
            "Name: count, dtype: int64\n"
          ]
        }
      ],
      "source": [
        "if 'anomalystatus' in df.columns:\n",
        "    print(df['anomalystatus'].value_counts())\n",
        "else:\n",
        "    print('No anomalystatus column found.')"
      ]
    },
    {
      "cell_type": "code",
      "execution_count": 7,
      "id": "7333f3e8",
      "metadata": {
        "colab": {
          "base_uri": "https://localhost:8080/"
        },
        "id": "7333f3e8",
        "outputId": "b91338c6-8fd5-44dc-8135-e0c629d10915"
      },
      "outputs": [
        {
          "output_type": "stream",
          "name": "stdout",
          "text": [
            "<class 'pandas.core.frame.DataFrame'>\n",
            "Index: 1800 entries, 704 to 980\n",
            "Data columns (total 21 columns):\n",
            " #   Column                      Non-Null Count  Dtype              \n",
            "---  ------                      --------------  -----              \n",
            " 0   timestamp                   1800 non-null   datetime64[ns, UTC]\n",
            " 1   session_id                  1800 non-null   object             \n",
            " 2   src_ip                      1800 non-null   object             \n",
            " 3   src_port                    1800 non-null   int64              \n",
            " 4   dst_ip                      1800 non-null   object             \n",
            " 5   dst_port                    1800 non-null   int64              \n",
            " 6   protocol                    1800 non-null   object             \n",
            " 7   duration_sec                1800 non-null   int64              \n",
            " 8   bytes                       1800 non-null   int64              \n",
            " 9   phone_number                1800 non-null   int64              \n",
            " 10  cell_tower_lat              1800 non-null   float64            \n",
            " 11  cell_tower_lon              1800 non-null   float64            \n",
            " 12  anomalystatus               1800 non-null   int64              \n",
            " 13  hour_of_day                 1800 non-null   int32              \n",
            " 14  day_of_week                 1800 non-null   int32              \n",
            " 15  time_since_last_session     1800 non-null   float64            \n",
            " 16  bytes_per_second            1800 non-null   float64            \n",
            " 17  port_category               1800 non-null   object             \n",
            " 18  port_category_num           1800 non-null   int64              \n",
            " 19  protocol_consistency_score  1800 non-null   int64              \n",
            " 20  iforest_anomaly             1800 non-null   int64              \n",
            "dtypes: datetime64[ns, UTC](1), float64(4), int32(2), int64(9), object(5)\n",
            "memory usage: 295.3+ KB\n"
          ]
        }
      ],
      "source": [
        "df.info()"
      ]
    },
    {
      "cell_type": "code",
      "execution_count": 8,
      "id": "5afbe09d",
      "metadata": {
        "colab": {
          "base_uri": "https://localhost:8080/"
        },
        "id": "5afbe09d",
        "outputId": "81ac5e8c-1b86-41e3-bf33-20fff50b943a"
      },
      "outputs": [
        {
          "output_type": "stream",
          "name": "stdout",
          "text": [
            "Contamination: 0.05\n",
            "[[828  72]\n",
            " [882  18]]\n",
            "              precision    recall  f1-score   support\n",
            "\n",
            "           0       0.48      0.92      0.63       900\n",
            "           1       0.20      0.02      0.04       900\n",
            "\n",
            "    accuracy                           0.47      1800\n",
            "   macro avg       0.34      0.47      0.34      1800\n",
            "weighted avg       0.34      0.47      0.34      1800\n",
            "\n",
            "--------------------------------------------------\n",
            "Contamination: 0.1\n",
            "[[772 128]\n",
            " [848  52]]\n",
            "              precision    recall  f1-score   support\n",
            "\n",
            "           0       0.48      0.86      0.61       900\n",
            "           1       0.29      0.06      0.10       900\n",
            "\n",
            "    accuracy                           0.46      1800\n",
            "   macro avg       0.38      0.46      0.35      1800\n",
            "weighted avg       0.38      0.46      0.35      1800\n",
            "\n",
            "--------------------------------------------------\n",
            "Contamination: 0.15\n",
            "[[729 171]\n",
            " [801  99]]\n",
            "              precision    recall  f1-score   support\n",
            "\n",
            "           0       0.48      0.81      0.60       900\n",
            "           1       0.37      0.11      0.17       900\n",
            "\n",
            "    accuracy                           0.46      1800\n",
            "   macro avg       0.42      0.46      0.38      1800\n",
            "weighted avg       0.42      0.46      0.38      1800\n",
            "\n",
            "--------------------------------------------------\n",
            "Contamination: 0.2\n",
            "[[686 214]\n",
            " [754 146]]\n",
            "              precision    recall  f1-score   support\n",
            "\n",
            "           0       0.48      0.76      0.59       900\n",
            "           1       0.41      0.16      0.23       900\n",
            "\n",
            "    accuracy                           0.46      1800\n",
            "   macro avg       0.44      0.46      0.41      1800\n",
            "weighted avg       0.44      0.46      0.41      1800\n",
            "\n",
            "--------------------------------------------------\n"
          ]
        }
      ],
      "source": [
        "# Tune Isolation Forest contamination parameter and compare results\n",
        "from sklearn.metrics import confusion_matrix, classification_report\n",
        "for contamination in [0.05, 0.1, 0.15, 0.2]:\n",
        "    iso_forest_tuned = IsolationForest(n_estimators=100, contamination=contamination, random_state=42)\n",
        "    df[f'iforest_anomaly_{int(contamination*100)}'] = iso_forest_tuned.fit_predict(X)\n",
        "    df[f'iforest_anomaly_{int(contamination*100)}'] = df[f'iforest_anomaly_{int(contamination*100)}'].map({1: 0, -1: 1})\n",
        "    if 'anomalystatus' in df.columns:\n",
        "        print(f'Contamination: {contamination}')\n",
        "        print(confusion_matrix(df['anomalystatus'], df[f'iforest_anomaly_{int(contamination*100)}']))\n",
        "        print(classification_report(df['anomalystatus'], df[f'iforest_anomaly_{int(contamination*100)}']))\n",
        "        print('-'*50)"
      ]
    },
    {
      "cell_type": "code",
      "execution_count": 9,
      "id": "949c8c96",
      "metadata": {
        "colab": {
          "base_uri": "https://localhost:8080/"
        },
        "id": "949c8c96",
        "outputId": "a4ca1ac8-6a48-423a-c563-774dbe4ee444"
      },
      "outputs": [
        {
          "output_type": "stream",
          "name": "stdout",
          "text": [
            "Random Forest Confusion Matrix:\n",
            "[[262   8]\n",
            " [ 21 249]]\n",
            "Random Forest Classification Report:\n",
            "              precision    recall  f1-score   support\n",
            "\n",
            "           0       0.93      0.97      0.95       270\n",
            "           1       0.97      0.92      0.94       270\n",
            "\n",
            "    accuracy                           0.95       540\n",
            "   macro avg       0.95      0.95      0.95       540\n",
            "weighted avg       0.95      0.95      0.95       540\n",
            "\n"
          ]
        }
      ],
      "source": [
        "# Train and evaluate a Random Forest classifier on the labeled data\n",
        "from sklearn.ensemble import RandomForestClassifier\n",
        "from sklearn.model_selection import train_test_split\n",
        "from sklearn.metrics import confusion_matrix, classification_report\n",
        "\n",
        "# Split data into train and test sets\n",
        "X_train, X_test, y_train, y_test = train_test_split(X, df['anomalystatus'], test_size=0.3, random_state=42, stratify=df['anomalystatus'])\n",
        "\n",
        "# Train Random Forest\n",
        "rf = RandomForestClassifier(n_estimators=100, random_state=42)\n",
        "rf.fit(X_train, y_train)\n",
        "\n",
        "# Predict and evaluate\n",
        "y_pred = rf.predict(X_test)\n",
        "print('Random Forest Confusion Matrix:')\n",
        "print(confusion_matrix(y_test, y_pred))\n",
        "print('Random Forest Classification Report:')\n",
        "print(classification_report(y_test, y_pred))"
      ]
    },
    {
      "cell_type": "code",
      "execution_count": 10,
      "id": "ffe76073",
      "metadata": {
        "colab": {
          "base_uri": "https://localhost:8080/"
        },
        "id": "ffe76073",
        "outputId": "b0da11d0-4883-4745-b207-8bf48ec027db"
      },
      "outputs": [
        {
          "output_type": "stream",
          "name": "stdout",
          "text": [
            "XGBoost Confusion Matrix:\n",
            "[[255  15]\n",
            " [ 23 247]]\n",
            "XGBoost Classification Report:\n",
            "              precision    recall  f1-score   support\n",
            "\n",
            "           0       0.92      0.94      0.93       270\n",
            "           1       0.94      0.91      0.93       270\n",
            "\n",
            "    accuracy                           0.93       540\n",
            "   macro avg       0.93      0.93      0.93       540\n",
            "weighted avg       0.93      0.93      0.93       540\n",
            "\n"
          ]
        },
        {
          "output_type": "stream",
          "name": "stderr",
          "text": [
            "/usr/local/lib/python3.12/dist-packages/xgboost/training.py:183: UserWarning: [15:45:35] WARNING: /workspace/src/learner.cc:738: \n",
            "Parameters: { \"use_label_encoder\" } are not used.\n",
            "\n",
            "  bst.update(dtrain, iteration=i, fobj=obj)\n"
          ]
        }
      ],
      "source": [
        "# Train and evaluate an XGBoost classifier on the labeled data\n",
        "from xgboost import XGBClassifier\n",
        "xgb = XGBClassifier(n_estimators=100, use_label_encoder=False, eval_metric='logloss', random_state=42)\n",
        "xgb.fit(X_train, y_train)\n",
        "y_pred_xgb = xgb.predict(X_test)\n",
        "print('XGBoost Confusion Matrix:')\n",
        "print(confusion_matrix(y_test, y_pred_xgb))\n",
        "print('XGBoost Classification Report:')\n",
        "print(classification_report(y_test, y_pred_xgb))"
      ]
    },
    {
      "cell_type": "code",
      "execution_count": 11,
      "id": "08c1d506",
      "metadata": {
        "colab": {
          "base_uri": "https://localhost:8080/"
        },
        "id": "08c1d506",
        "outputId": "3c373ccd-d3e4-44bf-d791-ca83625a7aff"
      },
      "outputs": [
        {
          "output_type": "stream",
          "name": "stdout",
          "text": [
            "SVM Confusion Matrix:\n",
            "[[139 131]\n",
            " [ 36 234]]\n",
            "SVM Classification Report:\n",
            "              precision    recall  f1-score   support\n",
            "\n",
            "           0       0.79      0.51      0.62       270\n",
            "           1       0.64      0.87      0.74       270\n",
            "\n",
            "    accuracy                           0.69       540\n",
            "   macro avg       0.72      0.69      0.68       540\n",
            "weighted avg       0.72      0.69      0.68       540\n",
            "\n"
          ]
        }
      ],
      "source": [
        "# Train and evaluate a Support Vector Machine (SVM) classifier on the labeled data\n",
        "from sklearn.svm import SVC\n",
        "svm = SVC(kernel='rbf', probability=True, random_state=42)\n",
        "svm.fit(X_train, y_train)\n",
        "y_pred_svm = svm.predict(X_test)\n",
        "print('SVM Confusion Matrix:')\n",
        "print(confusion_matrix(y_test, y_pred_svm))\n",
        "print('SVM Classification Report:')\n",
        "print(classification_report(y_test, y_pred_svm))"
      ]
    },
    {
      "cell_type": "code",
      "execution_count": 12,
      "id": "76f9379b",
      "metadata": {
        "colab": {
          "base_uri": "https://localhost:8080/"
        },
        "id": "76f9379b",
        "outputId": "ba3d53bc-47e7-4d33-8849-744bb5bcf29b"
      },
      "outputs": [
        {
          "output_type": "stream",
          "name": "stdout",
          "text": [
            "Logistic Regression Confusion Matrix:\n",
            "[[180  90]\n",
            " [ 12 258]]\n",
            "Logistic Regression Classification Report:\n",
            "              precision    recall  f1-score   support\n",
            "\n",
            "           0       0.94      0.67      0.78       270\n",
            "           1       0.74      0.96      0.83       270\n",
            "\n",
            "    accuracy                           0.81       540\n",
            "   macro avg       0.84      0.81      0.81       540\n",
            "weighted avg       0.84      0.81      0.81       540\n",
            "\n"
          ]
        }
      ],
      "source": [
        "# Train and evaluate a Logistic Regression classifier on the labeled data\n",
        "from sklearn.linear_model import LogisticRegression\n",
        "logreg = LogisticRegression(max_iter=1000, random_state=42)\n",
        "logreg.fit(X_train, y_train)\n",
        "y_pred_logreg = logreg.predict(X_test)\n",
        "print('Logistic Regression Confusion Matrix:')\n",
        "print(confusion_matrix(y_test, y_pred_logreg))\n",
        "print('Logistic Regression Classification Report:')\n",
        "print(classification_report(y_test, y_pred_logreg))"
      ]
    },
    {
      "cell_type": "code",
      "execution_count": 13,
      "id": "284a8225",
      "metadata": {
        "colab": {
          "base_uri": "https://localhost:8080/"
        },
        "id": "284a8225",
        "outputId": "fcca3777-aff9-4194-846d-99e1ac22769e"
      },
      "outputs": [
        {
          "output_type": "stream",
          "name": "stdout",
          "text": [
            "[LightGBM] [Info] Number of positive: 630, number of negative: 630\n",
            "[LightGBM] [Info] Auto-choosing row-wise multi-threading, the overhead of testing was 0.000285 seconds.\n",
            "You can set `force_row_wise=true` to remove the overhead.\n",
            "And if memory is not enough, you can set `force_col_wise=true`.\n",
            "[LightGBM] [Info] Total Bins 989\n",
            "[LightGBM] [Info] Number of data points in the train set: 1260, number of used features: 7\n",
            "[LightGBM] [Info] [binary:BoostFromScore]: pavg=0.500000 -> initscore=0.000000\n",
            "LightGBM Confusion Matrix:\n",
            "[[257  13]\n",
            " [ 22 248]]\n",
            "LightGBM Classification Report:\n",
            "              precision    recall  f1-score   support\n",
            "\n",
            "           0       0.92      0.95      0.94       270\n",
            "           1       0.95      0.92      0.93       270\n",
            "\n",
            "    accuracy                           0.94       540\n",
            "   macro avg       0.94      0.94      0.94       540\n",
            "weighted avg       0.94      0.94      0.94       540\n",
            "\n"
          ]
        }
      ],
      "source": [
        "\n",
        "# Train and evaluate a LightGBM classifier on the labeled data\n",
        "from lightgbm import LGBMClassifier\n",
        "lgbm = LGBMClassifier(n_estimators=100, random_state=42)\n",
        "lgbm.fit(X_train, y_train)\n",
        "y_pred_lgbm = lgbm.predict(X_test)\n",
        "print('LightGBM Confusion Matrix:')\n",
        "print(confusion_matrix(y_test, y_pred_lgbm))\n",
        "print('LightGBM Classification Report:')\n",
        "print(classification_report(y_test, y_pred_lgbm))"
      ]
    },
    {
      "cell_type": "markdown",
      "id": "7286d657",
      "metadata": {
        "id": "7286d657"
      },
      "source": [
        "### Model Comparison and Recommendation\n",
        "- **LightGBM, Random Forest, and XGBoost** all achieve excellent results (accuracy, precision, recall, and f1-score around 0.94–0.95).\n",
        "- These are state-of-the-art for tabular anomaly detection with balanced, labeled data.\n",
        "\n",
        "**Next steps for further improvement:**\n",
        "- Try hyperparameter tuning (GridSearchCV, Optuna) for top models.\n",
        "- Explore advanced feature engineering or domain-specific features.\n",
        "- Consider model ensembling (voting/stacking) for a small boost.\n",
        "- Visualize feature importance to understand what drives predictions.\n",
        "\n",
        "You can now confidently use LightGBM, Random Forest, or XGBoost for your anomaly detection pipeline!"
      ]
    },
    {
      "cell_type": "code",
      "execution_count": 14,
      "id": "68e5e934",
      "metadata": {
        "colab": {
          "base_uri": "https://localhost:8080/",
          "height": 507
        },
        "id": "68e5e934",
        "outputId": "21023086-0c7d-4446-ac0c-7b6301716093"
      },
      "outputs": [
        {
          "output_type": "display_data",
          "data": {
            "text/plain": [
              "<Figure size 800x500 with 1 Axes>"
            ],
            "image/png": "[encoded data removed]"
          },
          "metadata": {}
        }
      ],
      "source": [
        "# Visualize LightGBM feature importance\n",
        "import matplotlib.pyplot as plt\n",
        "importances = lgbm.feature_importances_\n",
        "feature_names = X.columns\n",
        "plt.figure(figsize=(8,5))\n",
        "plt.barh(feature_names, importances)\n",
        "plt.xlabel('Feature Importance')\n",
        "plt.title('LightGBM Feature Importance')\n",
        "plt.tight_layout()\n",
        "plt.show()"
      ]
    },
    {
      "cell_type": "code",
      "execution_count": null,
      "id": "89786817",
      "metadata": {
        "id": "89786817"
      },
      "outputs": [],
      "source": []
    },
    {
      "cell_type": "code",
      "execution_count": 15,
      "id": "4432fb3c",
      "metadata": {
        "colab": {
          "base_uri": "https://localhost:8080/",
          "height": 507
        },
        "id": "4432fb3c",
        "outputId": "ab76782d-64e0-410c-e291-81fed7db35fa"
      },
      "outputs": [
        {
          "output_type": "display_data",
          "data": {
            "text/plain": [
              "<Figure size 800x500 with 1 Axes>"
            ],
            "image/png": "[encoded data removed]"
          },
          "metadata": {}
        }
      ],
      "source": [
        "# Visualize Random Forest feature importance\n",
        "import matplotlib.pyplot as plt\n",
        "importances = rf.feature_importances_\n",
        "feature_names = X.columns\n",
        "plt.figure(figsize=(8,5))\n",
        "plt.barh(feature_names, importances)\n",
        "plt.xlabel('Feature Importance')\n",
        "plt.title('Random Forest Feature Importance')\n",
        "plt.tight_layout()\n",
        "plt.show()"
      ]
    },
    {
      "cell_type": "code",
      "execution_count": 16,
      "id": "e08da922",
      "metadata": {
        "colab": {
          "base_uri": "https://localhost:8080/",
          "height": 507
        },
        "id": "e08da922",
        "outputId": "e375b182-be25-41f8-9f20-7608fce9cd90"
      },
      "outputs": [
        {
          "output_type": "display_data",
          "data": {
            "text/plain": [
              "<Figure size 800x500 with 1 Axes>"
            ],
            "image/png": "[encoded data removed]"
          },
          "metadata": {}
        }
      ],
      "source": [
        "# Visualize xg boost feature importance\n",
        "import matplotlib.pyplot as plt\n",
        "importances = xgb.feature_importances_\n",
        "feature_names = X.columns\n",
        "plt.figure(figsize=(8,5))\n",
        "plt.barh(feature_names, importances)\n",
        "plt.xlabel('Feature Importance')\n",
        "plt.title('XG Boost Feature Importance')\n",
        "plt.tight_layout()\n",
        "plt.show()"
      ]
    },
    {
      "cell_type": "code",
      "execution_count": 17,
      "id": "256983ef",
      "metadata": {
        "colab": {
          "base_uri": "https://localhost:8080/"
        },
        "id": "256983ef",
        "outputId": "e2910554-ed55-41d0-edaa-e6f6be7c5cec"
      },
      "outputs": [
        {
          "output_type": "stream",
          "name": "stdout",
          "text": [
            "Fitting 3 folds for each of 54 candidates, totalling 162 fits\n",
            "[LightGBM] [Info] Number of positive: 630, number of negative: 630\n",
            "[LightGBM] [Info] Auto-choosing col-wise multi-threading, the overhead of testing was 0.000194 seconds.\n",
            "You can set `force_col_wise=true` to remove the overhead.\n",
            "[LightGBM] [Info] Total Bins 989\n",
            "[LightGBM] [Info] Number of data points in the train set: 1260, number of used features: 7\n",
            "[LightGBM] [Info] [binary:BoostFromScore]: pavg=0.500000 -> initscore=0.000000\n",
            "[LightGBM] [Warning] No further splits with positive gain, best gain: -inf\n",
            "[LightGBM] [Warning] No further splits with positive gain, best gain: -inf\n",
            "[LightGBM] [Warning] No further splits with positive gain, best gain: -inf\n",
            "[LightGBM] [Warning] No further splits with positive gain, best gain: -inf\n",
            "[LightGBM] [Warning] No further splits with positive gain, best gain: -inf\n",
            "[LightGBM] [Warning] No further splits with positive gain, best gain: -inf\n",
            "[LightGBM] [Warning] No further splits with positive gain, best gain: -inf\n",
            "[LightGBM] [Warning] No further splits with positive gain, best gain: -inf\n",
            "[LightGBM] [Warning] No further splits with positive gain, best gain: -inf\n",
            "[LightGBM] [Warning] No further splits with positive gain, best gain: -inf\n",
            "[LightGBM] [Warning] No further splits with positive gain, best gain: -inf\n",
            "[LightGBM] [Warning] No further splits with positive gain, best gain: -inf\n",
            "[LightGBM] [Warning] No further splits with positive gain, best gain: -inf\n",
            "[LightGBM] [Warning] No further splits with positive gain, best gain: -inf\n",
            "[LightGBM] [Warning] No further splits with positive gain, best gain: -inf\n",
            "[LightGBM] [Warning] No further splits with positive gain, best gain: -inf\n",
            "[LightGBM] [Warning] No further splits with positive gain, best gain: -inf\n",
            "[LightGBM] [Warning] No further splits with positive gain, best gain: -inf\n",
            "[LightGBM] [Warning] No further splits with positive gain, best gain: -inf\n",
            "[LightGBM] [Warning] No further splits with positive gain, best gain: -inf\n",
            "[LightGBM] [Warning] No further splits with positive gain, best gain: -inf\n",
            "[LightGBM] [Warning] No further splits with positive gain, best gain: -inf\n",
            "[LightGBM] [Warning] No further splits with positive gain, best gain: -inf\n",
            "[LightGBM] [Warning] No further splits with positive gain, best gain: -inf\n",
            "[LightGBM] [Warning] No further splits with positive gain, best gain: -inf\n",
            "[LightGBM] [Warning] No further splits with positive gain, best gain: -inf\n",
            "[LightGBM] [Warning] No further splits with positive gain, best gain: -inf\n",
            "[LightGBM] [Warning] No further splits with positive gain, best gain: -inf\n",
            "[LightGBM] [Warning] No further splits with positive gain, best gain: -inf\n",
            "[LightGBM] [Warning] No further splits with positive gain, best gain: -inf\n",
            "[LightGBM] [Warning] No further splits with positive gain, best gain: -inf\n",
            "[LightGBM] [Warning] No further splits with positive gain, best gain: -inf\n",
            "[LightGBM] [Warning] No further splits with positive gain, best gain: -inf\n",
            "[LightGBM] [Warning] No further splits with positive gain, best gain: -inf\n",
            "[LightGBM] [Warning] No further splits with positive gain, best gain: -inf\n",
            "[LightGBM] [Warning] No further splits with positive gain, best gain: -inf\n",
            "[LightGBM] [Warning] No further splits with positive gain, best gain: -inf\n",
            "[LightGBM] [Warning] No further splits with positive gain, best gain: -inf\n",
            "[LightGBM] [Warning] No further splits with positive gain, best gain: -inf\n",
            "[LightGBM] [Warning] No further splits with positive gain, best gain: -inf\n",
            "[LightGBM] [Warning] No further splits with positive gain, best gain: -inf\n",
            "[LightGBM] [Warning] No further splits with positive gain, best gain: -inf\n",
            "[LightGBM] [Warning] No further splits with positive gain, best gain: -inf\n",
            "[LightGBM] [Warning] No further splits with positive gain, best gain: -inf\n",
            "[LightGBM] [Warning] No further splits with positive gain, best gain: -inf\n",
            "[LightGBM] [Warning] No further splits with positive gain, best gain: -inf\n",
            "[LightGBM] [Warning] No further splits with positive gain, best gain: -inf\n",
            "[LightGBM] [Warning] No further splits with positive gain, best gain: -inf\n",
            "[LightGBM] [Warning] No further splits with positive gain, best gain: -inf\n",
            "[LightGBM] [Warning] No further splits with positive gain, best gain: -inf\n",
            "[LightGBM] [Warning] No further splits with positive gain, best gain: -inf\n",
            "[LightGBM] [Warning] No further splits with positive gain, best gain: -inf\n",
            "[LightGBM] [Warning] No further splits with positive gain, best gain: -inf\n",
            "[LightGBM] [Warning] No further splits with positive gain, best gain: -inf\n",
            "[LightGBM] [Warning] No further splits with positive gain, best gain: -inf\n",
            "[LightGBM] [Warning] No further splits with positive gain, best gain: -inf\n",
            "[LightGBM] [Warning] No further splits with positive gain, best gain: -inf\n",
            "[LightGBM] [Warning] No further splits with positive gain, best gain: -inf\n",
            "[LightGBM] [Warning] No further splits with positive gain, best gain: -inf\n",
            "[LightGBM] [Warning] No further splits with positive gain, best gain: -inf\n",
            "[LightGBM] [Warning] No further splits with positive gain, best gain: -inf\n",
            "[LightGBM] [Warning] No further splits with positive gain, best gain: -inf\n",
            "[LightGBM] [Warning] No further splits with positive gain, best gain: -inf\n",
            "[LightGBM] [Warning] No further splits with positive gain, best gain: -inf\n",
            "Best LightGBM parameters: {'learning_rate': 0.01, 'max_depth': 5, 'n_estimators': 200, 'num_leaves': 15}\n",
            "Tuned LightGBM Confusion Matrix:\n",
            "[[262   8]\n",
            " [ 20 250]]\n",
            "Tuned LightGBM Classification Report:\n",
            "              precision    recall  f1-score   support\n",
            "\n",
            "           0       0.93      0.97      0.95       270\n",
            "           1       0.97      0.93      0.95       270\n",
            "\n",
            "    accuracy                           0.95       540\n",
            "   macro avg       0.95      0.95      0.95       540\n",
            "weighted avg       0.95      0.95      0.95       540\n",
            "\n"
          ]
        }
      ],
      "source": [
        "# Hyperparameter tuning for LightGBM using GridSearchCV\n",
        "from sklearn.model_selection import GridSearchCV\n",
        "\n",
        "param_grid = {\n",
        "    'n_estimators': [100, 200],\n",
        "    'max_depth': [3, 5, 7],\n",
        "    'learning_rate': [0.01, 0.1, 0.2],\n",
        "    'num_leaves': [15, 31, 63]\n",
        "}\n",
        "grid_search = GridSearchCV(LGBMClassifier(random_state=42), param_grid, scoring='f1', cv=3, n_jobs=-1, verbose=1)\n",
        "grid_search.fit(X_train, y_train)\n",
        "\n",
        "print('Best LightGBM parameters:', grid_search.best_params_)\n",
        "\n",
        "# Evaluate best estimator on test data\n",
        "best_lgbm = grid_search.best_estimator_\n",
        "y_pred_best = best_lgbm.predict(X_test)\n",
        "print('Tuned LightGBM Confusion Matrix:')\n",
        "print(confusion_matrix(y_test, y_pred_best))\n",
        "print('Tuned LightGBM Classification Report:')\n",
        "print(classification_report(y_test, y_pred_best))"
      ]
    },
    {
      "cell_type": "markdown",
      "id": "f4074b71",
      "metadata": {
        "id": "f4074b71"
      },
      "source": [
        "### Hyperparameter Tuning for Random Forest and XGBoost\n",
        "We will now perform hyperparameter tuning for both Random Forest and XGBoost using GridSearchCV, similar to what was done for LightGBM. This will help us compare the best possible results for all top models."
      ]
    },
    {
      "cell_type": "code",
      "execution_count": 18,
      "id": "3f526ed5",
      "metadata": {
        "colab": {
          "base_uri": "https://localhost:8080/"
        },
        "id": "3f526ed5",
        "outputId": "fdc68b56-a643-47e4-c2e4-7601bcf929eb"
      },
      "outputs": [
        {
          "output_type": "stream",
          "name": "stdout",
          "text": [
            "Fitting 3 folds for each of 81 candidates, totalling 243 fits\n",
            "Best Random Forest parameters: {'max_depth': None, 'min_samples_leaf': 4, 'min_samples_split': 10, 'n_estimators': 200}\n",
            "Tuned Random Forest Confusion Matrix:\n",
            "[[262   8]\n",
            " [ 21 249]]\n",
            "Tuned Random Forest Classification Report:\n",
            "              precision    recall  f1-score   support\n",
            "\n",
            "           0       0.93      0.97      0.95       270\n",
            "           1       0.97      0.92      0.94       270\n",
            "\n",
            "    accuracy                           0.95       540\n",
            "   macro avg       0.95      0.95      0.95       540\n",
            "weighted avg       0.95      0.95      0.95       540\n",
            "\n"
          ]
        }
      ],
      "source": [
        "# Hyperparameter tuning for Random Forest using GridSearchCV\n",
        "from sklearn.model_selection import GridSearchCV\n",
        "from sklearn.ensemble import RandomForestClassifier\n",
        "\n",
        "rf_param_grid = {\n",
        "    'n_estimators': [100, 200, 300],\n",
        "    'max_depth': [None, 5, 10],\n",
        "    'min_samples_split': [2, 5, 10],\n",
        "    'min_samples_leaf': [1, 2, 4]\n",
        "}\n",
        "\n",
        "rf_grid_search = GridSearchCV(RandomForestClassifier(random_state=42), rf_param_grid, scoring='f1', cv=3, n_jobs=-1, verbose=1)\n",
        "rf_grid_search.fit(X_train, y_train)\n",
        "\n",
        "print('Best Random Forest parameters:', rf_grid_search.best_params_)\n",
        "\n",
        "# Evaluate best estimator on test data\n",
        "best_rf = rf_grid_search.best_estimator_\n",
        "y_pred_rf_best = best_rf.predict(X_test)\n",
        "print('Tuned Random Forest Confusion Matrix:')\n",
        "print(confusion_matrix(y_test, y_pred_rf_best))\n",
        "print('Tuned Random Forest Classification Report:')\n",
        "print(classification_report(y_test, y_pred_rf_best))"
      ]
    },
    {
      "cell_type": "code",
      "execution_count": 19,
      "id": "d95f00b5",
      "metadata": {
        "colab": {
          "base_uri": "https://localhost:8080/"
        },
        "id": "d95f00b5",
        "outputId": "018a1eab-4b72-424d-8161-46a0c03ff502"
      },
      "outputs": [
        {
          "output_type": "stream",
          "name": "stdout",
          "text": [
            "Fitting 3 folds for each of 36 candidates, totalling 108 fits\n",
            "Best XGBoost parameters: {'learning_rate': 0.01, 'max_depth': 5, 'n_estimators': 200, 'subsample': 1.0}\n",
            "Tuned XGBoost Confusion Matrix:\n",
            "[[262   8]\n",
            " [ 21 249]]\n",
            "Tuned XGBoost Classification Report:\n",
            "              precision    recall  f1-score   support\n",
            "\n",
            "           0       0.93      0.97      0.95       270\n",
            "           1       0.97      0.92      0.94       270\n",
            "\n",
            "    accuracy                           0.95       540\n",
            "   macro avg       0.95      0.95      0.95       540\n",
            "weighted avg       0.95      0.95      0.95       540\n",
            "\n"
          ]
        },
        {
          "output_type": "stream",
          "name": "stderr",
          "text": [
            "/usr/local/lib/python3.12/dist-packages/xgboost/training.py:183: UserWarning: [15:48:52] WARNING: /workspace/src/learner.cc:738: \n",
            "Parameters: { \"use_label_encoder\" } are not used.\n",
            "\n",
            "  bst.update(dtrain, iteration=i, fobj=obj)\n"
          ]
        }
      ],
      "source": [
        "# Hyperparameter tuning for XGBoost using GridSearchCV\n",
        "from xgboost import XGBClassifier\n",
        "from sklearn.model_selection import GridSearchCV\n",
        "\n",
        "xgb_param_grid = {\n",
        "    'n_estimators': [100, 200],\n",
        "    'max_depth': [3, 5, 7],\n",
        "    'learning_rate': [0.01, 0.1, 0.2],\n",
        "    'subsample': [0.8, 1.0]\n",
        "}\n",
        "\n",
        "xgb_grid_search = GridSearchCV(XGBClassifier(use_label_encoder=False, eval_metric='logloss', random_state=42), xgb_param_grid, scoring='f1', cv=3, n_jobs=-1, verbose=1)\n",
        "xgb_grid_search.fit(X_train, y_train)\n",
        "\n",
        "print('Best XGBoost parameters:', xgb_grid_search.best_params_)\n",
        "\n",
        "# Evaluate best estimator on test data\n",
        "best_xgb = xgb_grid_search.best_estimator_\n",
        "y_pred_xgb_best = best_xgb.predict(X_test)\n",
        "print('Tuned XGBoost Confusion Matrix:')\n",
        "print(confusion_matrix(y_test, y_pred_xgb_best))\n",
        "print('Tuned XGBoost Classification Report:')\n",
        "print(classification_report(y_test, y_pred_xgb_best))"
      ]
    },
    {
      "cell_type": "markdown",
      "id": "074fd9ef",
      "metadata": {
        "id": "074fd9ef"
      },
      "source": [
        "### Results Summary and Next Steps\n",
        "All three tuned models (LightGBM, Random Forest, XGBoost) achieve high accuracy and f1-score (~0.95).\n",
        "- You can now compare feature importances for interpretability.\n",
        "- Optionally, try model ensembling (voting/stacking) for a small performance boost.\n",
        "- You may export the best model for deployment or automate predictions on new data.\n",
        "\n",
        "**Let me know if you want to:**\n",
        "- Visualize feature importances for the tuned models\n",
        "- Build an ensemble model\n",
        "- Export the best model for production use"
      ]
    },
    {
      "cell_type": "markdown",
      "id": "9e9aa456",
      "metadata": {
        "id": "9e9aa456"
      },
      "source": [
        "### Model Ensembling: Voting Classifier\n",
        "We will now build an ensemble model using the best-tuned Random Forest, XGBoost, and LightGBM classifiers with a soft voting strategy. This can sometimes improve performance by combining the strengths of each model."
      ]
    },
    {
      "cell_type": "code",
      "execution_count": 20,
      "id": "92f3e101",
      "metadata": {
        "colab": {
          "base_uri": "https://localhost:8080/"
        },
        "id": "92f3e101",
        "outputId": "ddb97eec-21e8-4e8d-bb2b-3043aa6f1d30"
      },
      "outputs": [
        {
          "output_type": "stream",
          "name": "stdout",
          "text": [
            "Voting Classifier Confusion Matrix:\n",
            "[[262   8]\n",
            " [ 21 249]]\n",
            "Voting Classifier Classification Report:\n",
            "              precision    recall  f1-score   support\n",
            "\n",
            "           0       0.93      0.97      0.95       270\n",
            "           1       0.97      0.92      0.94       270\n",
            "\n",
            "    accuracy                           0.95       540\n",
            "   macro avg       0.95      0.95      0.95       540\n",
            "weighted avg       0.95      0.95      0.95       540\n",
            "\n"
          ]
        }
      ],
      "source": [
        "# Ensemble model using VotingClassifier (soft voting)\n",
        "from sklearn.ensemble import VotingClassifier\n",
        "\n",
        "# Use the best estimators from previous GridSearchCV results\n",
        "voting_clf = VotingClassifier(\n",
        "    estimators=[\n",
        "        ('rf', best_rf),\n",
        "        ('xgb', best_xgb),\n",
        "        ('lgbm', best_lgbm)\n",
        "    ],\n",
        "    voting='soft',\n",
        "    n_jobs=-1\n",
        ")\n",
        "\n",
        "voting_clf.fit(X_train, y_train)\n",
        "y_pred_ensemble = voting_clf.predict(X_test)\n",
        "\n",
        "print('Voting Classifier Confusion Matrix:')\n",
        "print(confusion_matrix(y_test, y_pred_ensemble))\n",
        "print('Voting Classifier Classification Report:')\n",
        "print(classification_report(y_test, y_pred_ensemble))"
      ]
    },
    {
      "cell_type": "markdown",
      "id": "52a1930f",
      "metadata": {
        "id": "52a1930f"
      },
      "source": [
        "### Ensemble Results and Model Export\n",
        "The Voting Classifier ensemble achieved high accuracy and f1-score (~0.95), matching the best individual models.\n",
        "\n",
        "**Next step:** Export the best model (ensemble or individual) for deployment or future use."
      ]
    },
    {
      "cell_type": "code",
      "execution_count": 21,
      "id": "85976a67",
      "metadata": {
        "colab": {
          "base_uri": "https://localhost:8080/"
        },
        "id": "85976a67",
        "outputId": "d1bebf39-c86a-4217-d7d1-2397f56a3ece"
      },
      "outputs": [
        {
          "output_type": "stream",
          "name": "stdout",
          "text": [
            "Anomaly Detection Classifier (Ensemble Voting) model saved as anomaly_detection_clf.pkl\n"
          ]
        }
      ],
      "source": [
        "# Export the ensemble VotingClassifier model for deployment or future use\n",
        "import joblib\n",
        "\n",
        "# Save the ensemble model to a file\n",
        "joblib.dump(voting_clf, 'anomaly_detection_clf.pkl')\n",
        "print('Anomaly Detection Classifier (Ensemble Voting) model saved as anomaly_detection_clf.pkl')"
      ]
    },
    {
      "cell_type": "code",
      "source": [
        "voting_clf.feature_names_in_"
      ],
      "metadata": {
        "colab": {
          "base_uri": "https://localhost:8080/"
        },
        "id": "jF1jTC2bb405",
        "outputId": "1ec9f9a4-a7af-446c-9640-b82e86bd44bc"
      },
      "id": "jF1jTC2bb405",
      "execution_count": 27,
      "outputs": [
        {
          "output_type": "execute_result",
          "data": {
            "text/plain": [
              "array(['duration_sec', 'bytes', 'hour_of_day', 'day_of_week',\n",
              "       'time_since_last_session', 'bytes_per_second',\n",
              "       'protocol_consistency_score', 'port_category_num'], dtype='<U26')"
            ]
          },
          "metadata": {},
          "execution_count": 27
        }
      ]
    },
    {
      "cell_type": "markdown",
      "id": "50feefa7",
      "metadata": {
        "id": "50feefa7"
      },
      "source": [
        "### How to Use the Saved `.pkl` Model File\n",
        "You can load the exported `ensemble_voting_classifier.pkl` file and use it to make predictions on new data.\n",
        "\n",
        "**Steps:**\n",
        "1. Load the model using `joblib.load()`\n",
        "2. Prepare your input data (must have the same features and order as used in training)\n",
        "3. Use the model's `.predict()` method to get anomaly predictions\n",
        "4. Output: 0 = normal, 1 = anomaly (as per your training labels)\n",
        "\n",
        "**Example code:**"
      ]
    },
    {
      "cell_type": "code",
      "execution_count": 22,
      "id": "7308110e",
      "metadata": {
        "colab": {
          "base_uri": "https://localhost:8080/"
        },
        "id": "7308110e",
        "outputId": "178312df-5be6-4f0d-8270-7a55cd0f1eb2"
      },
      "outputs": [
        {
          "output_type": "stream",
          "name": "stdout",
          "text": [
            "Predictions: [0 = normal, 1 = anomaly]\n"
          ]
        }
      ],
      "source": [
        "# Example: Load and use the saved ensemble model for prediction\n",
        "import joblib\n",
        "import pandas as pd\n",
        "\n",
        "# Load the saved model\n",
        "loaded_model = joblib.load('anomaly_detection_clf.pkl')\n",
        "\n",
        "# Prepare new data (must have the same features and order as during training)\n",
        "# Example: new_data = pd.DataFrame([[value1, value2, ...]], columns=feature_names)\n",
        "# Replace with your actual feature values and column names\n",
        "# new_data = pd.DataFrame([[...]], columns=[...])\n",
        "\n",
        "# Predict anomalies (0 = normal, 1 = anomaly)\n",
        "# predictions = loaded_model.predict(new_data)\n",
        "print('Predictions:', '[0 = normal, 1 = anomaly]')"
      ]
    },
    {
      "cell_type": "code",
      "execution_count": 23,
      "id": "0be7c6be",
      "metadata": {
        "colab": {
          "base_uri": "https://localhost:8080/"
        },
        "id": "0be7c6be",
        "outputId": "ef87b100-e420-45d5-ad8d-2cb992f787a7"
      },
      "outputs": [
        {
          "output_type": "stream",
          "name": "stdout",
          "text": [
            "Required input features and order:\n",
            "['duration_sec', 'bytes', 'hour_of_day', 'day_of_week', 'time_since_last_session', 'bytes_per_second', 'protocol_consistency_score', 'port_category_num']\n"
          ]
        }
      ],
      "source": [
        "# Show the required input feature names and order for the model\n",
        "print('Required input features and order:')\n",
        "print(list(X.columns))"
      ]
    },
    {
      "cell_type": "code",
      "execution_count": 25,
      "id": "9f990f98",
      "metadata": {
        "colab": {
          "base_uri": "https://localhost:8080/"
        },
        "id": "9f990f98",
        "outputId": "8bf4a7fd-a581-46e4-f1f8-dd85b401a64c"
      },
      "outputs": [
        {
          "output_type": "stream",
          "name": "stdout",
          "text": [
            "Prediction (0 = normal, 1 = anomaly): 0\n"
          ]
        }
      ],
      "source": [
        "# Example: Predict anomaly for a new sample with correct feature order\n",
        "import numpy as np\n",
        "import pandas as pd\n",
        "import joblib\n",
        "\n",
        "# Load the saved model\n",
        "loaded_model = joblib.load('anomaly_detection_clf.pkl')\n",
        "\n",
        "sample = {\n",
        "    'duration_sec': 120,\n",
        "    'bytes': 50000,\n",
        "    'hour_of_day': 14,\n",
        "    'day_of_week': 2,\n",
        "    'time_since_last_session': 3600,\n",
        "    'bytes_per_second': 416.67,\n",
        "    'protocol_consistency_score': 1,\n",
        "    'port_category_num': 0\n",
        "}\n",
        "\n",
        "# Create DataFrame with correct order\n",
        "new_data = pd.DataFrame([[sample[f] for f in ['duration_sec', 'bytes', 'hour_of_day', 'day_of_week', 'time_since_last_session', 'bytes_per_second', 'protocol_consistency_score', 'port_category_num']]],\n",
        "                        columns=['duration_sec', 'bytes', 'hour_of_day', 'day_of_week', 'time_since_last_session', 'bytes_per_second', 'protocol_consistency_score', 'port_category_num'])\n",
        "\n",
        "# Predict anomaly (0 = normal, 1 = anomaly)\n",
        "prediction = loaded_model.predict(new_data)\n",
        "print('Prediction (0 = normal, 1 = anomaly):', prediction[0])"
      ]
    },
    {
      "cell_type": "code",
      "execution_count": 26,
      "id": "6cae4114",
      "metadata": {
        "colab": {
          "base_uri": "https://localhost:8080/"
        },
        "id": "6cae4114",
        "outputId": "2ca37679-b393-457d-87fd-07fe669e2089"
      },
      "outputs": [
        {
          "output_type": "stream",
          "name": "stdout",
          "text": [
            "Prediction for anomaly example (0 = normal, 1 = anomaly): 1\n"
          ]
        }
      ],
      "source": [
        "# Example: Predict anomaly for a likely anomalous sample\n",
        "import pandas as pd\n",
        "import joblib\n",
        "\n",
        "# Load the saved model\n",
        "loaded_model = joblib.load('anomaly_detection_clf.pkl')\n",
        "\n",
        "# Example anomaly feature values (unusual/high values)\n",
        "anomaly_sample = {\n",
        "    'duration_sec': 30,  # very short session\n",
        "    'bytes': 10000000,   # extremely high bytes\n",
        "    'hour_of_day': 6,    # odd hour\n",
        "    'day_of_week': 6,    # weekend\n",
        "    'time_since_last_session': 86400,  # long gap (1 day)\n",
        "    'bytes_per_second': 1000000,  # extremely high rate\n",
        "    'protocol_consistency_score': 0,  # protocol inconsistency\n",
        "    'port_category_num': 1  # unusual port\n",
        "}\n",
        "\n",
        "# Create DataFrame with correct order\n",
        "anomaly_data = pd.DataFrame([[anomaly_sample[f] for f in ['duration_sec', 'bytes', 'hour_of_day', 'day_of_week', 'time_since_last_session', 'bytes_per_second', 'protocol_consistency_score', 'port_category_num']]],\n",
        "                        columns=['duration_sec', 'bytes', 'hour_of_day', 'day_of_week', 'time_since_last_session', 'bytes_per_second', 'protocol_consistency_score', 'port_category_num'])\n",
        "\n",
        "# Predict anomaly (0 = normal, 1 = anomaly)\n",
        "anomaly_prediction = loaded_model.predict(anomaly_data)\n",
        "print('Prediction for anomaly example (0 = normal, 1 = anomaly):', anomaly_prediction[0])"
      ]
    }
  ],
  "metadata": {
    "kernelspec": {
      "display_name": "base",
      "language": "python",
      "name": "python3"
    },
    "language_info": {
      "codemirror_mode": {
        "name": "ipython",
        "version": 3
      },
      "file_extension": ".py",
      "mimetype": "text/x-python",
      "name": "python",
      "nbconvert_exporter": "python",
      "pygments_lexer": "ipython3",
      "version": "3.12.4"
    },
    "colab": {
      "provenance": []
    }
  },
  "nbformat": 4,
  "nbformat_minor": 5
}